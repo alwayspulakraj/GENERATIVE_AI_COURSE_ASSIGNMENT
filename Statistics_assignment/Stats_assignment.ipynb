{
  "nbformat": 4,
  "nbformat_minor": 0,
  "metadata": {
    "colab": {
      "provenance": [],
      "authorship_tag": "ABX9TyNZKHoljNr2Kpwer9iKerBk",
      "include_colab_link": true
    },
    "kernelspec": {
      "name": "python3",
      "display_name": "Python 3"
    },
    "language_info": {
      "name": "python"
    }
  },
  "cells": [
    {
      "cell_type": "markdown",
      "metadata": {
        "id": "view-in-github",
        "colab_type": "text"
      },
      "source": [
        "<a href=\"https://colab.research.google.com/github/alwayspulakraj/GENERATIVE_AI_COURSE_ASSIGNMENT/blob/ASSIGNMENTS-PW-SKILLS/Statistics_assignment/Stats_assignment.ipynb\" target=\"_parent\"><img src=\"https://colab.research.google.com/assets/colab-badge.svg\" alt=\"Open In Colab\"/></a>"
      ]
    },
    {
      "cell_type": "code",
      "execution_count": null,
      "metadata": {
        "colab": {
          "base_uri": "https://localhost:8080/"
        },
        "id": "tQPtNT9SaMiG",
        "outputId": "1f7c108e-a1b6-4d68-8e5c-df086ab754fa"
      },
      "outputs": [
        {
          "output_type": "stream",
          "name": "stdout",
          "text": [
            "[101 125  97 124 123  93  99 117 123 100 103 111  98  95 103 101 106 110\n",
            " 104  96 107 108 105 105 102  94 121 117 110 102 127 110 119 121 108 108\n",
            " 125 107 127 117 106 106 113 123 120  97 121 102 105 112 121 114  99  92\n",
            " 106 126 121 121 118 119 115  95 101 105 124 117 118 105 126 117 100 124\n",
            " 103 107  99  99 115 120 126  91 112 119 111 121 127  97 126  98 119 101\n",
            " 120  98 111 105 113 103 116 102 128 106]\n"
          ]
        }
      ],
      "source": [
        "#1.Generate a list of 100 integers containing values between 90 to 130 and store it in the variable `int_list`.\n",
        "import numpy as np\n",
        "int_list=np.random.randint(90,130,100)\n",
        "print(int_list)\n"
      ]
    },
    {
      "cell_type": "code",
      "source": [
        "#Write a python function to calculate the mean of a given list.Create a function to find the median of a list of integers.\n",
        "def mean(int_list):\n",
        "    return sum(int_list)/len(int_list)\n",
        "print(mean(int_list))\n",
        "def median(int_list):\n",
        "  return np.median(int_list)\n",
        "print(median(int_list))"
      ],
      "metadata": {
        "colab": {
          "base_uri": "https://localhost:8080/"
        },
        "id": "a8Z3i-vaaxfS",
        "outputId": "686fb07d-4a4f-4851-f647-3ffc4513e1d3"
      },
      "execution_count": null,
      "outputs": [
        {
          "output_type": "stream",
          "name": "stdout",
          "text": [
            "110.51\n",
            "110.0\n"
          ]
        }
      ]
    },
    {
      "cell_type": "code",
      "source": [
        "#Develop a program to compute the mode of the list of integers.\n",
        "from scipy import stats\n",
        "print(stats.mode(int_list))"
      ],
      "metadata": {
        "colab": {
          "base_uri": "https://localhost:8080/"
        },
        "id": "hbmBkftBh1rC",
        "outputId": "e06b05e0-e68b-4ff0-9c40-209b98fe658b"
      },
      "execution_count": null,
      "outputs": [
        {
          "output_type": "stream",
          "name": "stdout",
          "text": [
            "ModeResult(mode=121, count=7)\n"
          ]
        }
      ]
    },
    {
      "cell_type": "code",
      "source": [
        "#Implement a function to calculate the weighted mean of a list values and their corresponding weights.\n",
        "def weighted_mean(int_list):\n",
        "    total = sum(int_list)\n",
        "    weight_sum = len(int_list)\n",
        "    return total / weight_sum\n",
        "print(weighted_mean(int_list))"
      ],
      "metadata": {
        "colab": {
          "base_uri": "https://localhost:8080/"
        },
        "id": "Lh28b41wj1i-",
        "outputId": "eec75f9f-d51d-4079-e14a-bee7ea805d9d"
      },
      "execution_count": null,
      "outputs": [
        {
          "output_type": "stream",
          "name": "stdout",
          "text": [
            "110.51\n"
          ]
        }
      ]
    },
    {
      "cell_type": "code",
      "source": [
        "#Write a python function to find the geometric mean of a list of positive numbers.\n",
        "def geometric_mean(x):\n",
        "    return np.prod(x) ** (1.0 / len(x))\n",
        "print(geometric_mean(int_list))"
      ],
      "metadata": {
        "colab": {
          "base_uri": "https://localhost:8080/"
        },
        "id": "T7N43FMqnWkF",
        "outputId": "6c1e8e40-9832-454f-9f65-2780713d40ef"
      },
      "execution_count": null,
      "outputs": [
        {
          "output_type": "stream",
          "name": "stdout",
          "text": [
            "0.0\n"
          ]
        }
      ]
    },
    {
      "cell_type": "code",
      "source": [
        "#Create a program to calculate harmonic mean of a list of values.\n",
        "def harmonic_mean(x):\n",
        "    return len(x) / np.sum(1.0 / x)\n",
        "print(harmonic_mean(int_list))"
      ],
      "metadata": {
        "colab": {
          "base_uri": "https://localhost:8080/"
        },
        "id": "I0CAQmd_oRrI",
        "outputId": "94773b9f-d3bf-4e69-a62c-4e6e8a23c02a"
      },
      "execution_count": null,
      "outputs": [
        {
          "output_type": "stream",
          "name": "stdout",
          "text": [
            "109.57535400605863\n"
          ]
        }
      ]
    },
    {
      "cell_type": "code",
      "source": [
        "#Build a function to determine a midrange of a list of numbers.(average of min and max)\n",
        "def midrange(int_list):\n",
        "    return (max(int_list)+min(int_list))/2\n",
        "print(midrange(int_list))"
      ],
      "metadata": {
        "colab": {
          "base_uri": "https://localhost:8080/"
        },
        "id": "dDfcFmt-Ee1R",
        "outputId": "83cca7f4-749c-4583-a133-5d1f5287ea82"
      },
      "execution_count": null,
      "outputs": [
        {
          "output_type": "stream",
          "name": "stdout",
          "text": [
            "109.5\n"
          ]
        }
      ]
    },
    {
      "cell_type": "code",
      "source": [
        "#Implement a python program to find the trimmed mean of a list , excluding a certain percentage of outliers.\n",
        "def trimmed_mean(x, percentage):\n",
        "    x.sort()\n",
        "    trim_amount = int(len(x)*(percentage / 2))\n",
        "    trimmed_data = x[trim_amount:-trim_amount]\n",
        "    trimmed_mean = sum(trimmed_data) / len(trimmed_data)\n",
        "    return trimmed_mean\n",
        "percentage=0.3#means we want to trim the 30 percent of the outliers present in the list\n",
        "r = trimmed_mean(int_list, percentage)\n",
        "print(\"Trimmed mean:\", r)"
      ],
      "metadata": {
        "colab": {
          "base_uri": "https://localhost:8080/"
        },
        "id": "-Z9RJLMHEwQW",
        "outputId": "0db685d2-6188-4870-9ac7-67ab983b85fc"
      },
      "execution_count": null,
      "outputs": [
        {
          "output_type": "stream",
          "name": "stdout",
          "text": [
            "Trimmed mean: 110.44285714285714\n"
          ]
        }
      ]
    },
    {
      "cell_type": "code",
      "source": [
        "#2. Generate a list of 500 integers containing values between 200 to 300 and store it in the variable `int_list2`.\n",
        "import numpy as np\n",
        "int_list2=np.random.randint(200,300,500)\n",
        "print(int_list2)"
      ],
      "metadata": {
        "colab": {
          "base_uri": "https://localhost:8080/"
        },
        "id": "ci2jTsup_6Te",
        "outputId": "c7c10139-7c50-490d-9152-fe134be683ff"
      },
      "execution_count": null,
      "outputs": [
        {
          "output_type": "stream",
          "name": "stdout",
          "text": [
            "[298 255 244 264 233 281 221 247 241 298 200 234 227 280 288 281 239 201\n",
            " 271 270 299 283 206 215 296 288 205 276 294 252 249 243 243 244 296 258\n",
            " 202 244 239 272 220 242 272 254 250 210 240 212 212 269 246 268 250 298\n",
            " 232 261 251 287 220 280 252 219 220 242 294 269 279 271 292 237 296 294\n",
            " 260 278 223 243 257 268 256 299 217 275 266 243 290 230 211 297 222 264\n",
            " 250 259 223 258 232 268 278 260 251 238 292 249 295 281 232 265 290 290\n",
            " 241 257 243 228 264 254 225 247 210 234 296 270 219 205 216 259 230 233\n",
            " 255 271 201 278 204 202 279 296 261 270 219 260 272 286 281 271 264 204\n",
            " 248 294 212 222 263 288 296 263 224 233 202 235 267 253 233 265 228 206\n",
            " 256 258 252 268 227 285 286 284 294 261 281 250 209 261 274 229 211 225\n",
            " 251 282 240 228 296 282 249 222 232 211 240 274 225 265 231 232 266 252\n",
            " 241 242 283 273 250 230 209 237 278 214 214 204 262 243 230 244 286 218\n",
            " 210 231 251 238 296 285 210 250 243 248 204 216 282 256 216 270 236 212\n",
            " 205 217 288 299 295 256 265 298 260 259 247 226 219 246 241 240 294 282\n",
            " 237 254 284 255 291 282 214 293 206 208 268 282 294 255 288 297 246 255\n",
            " 269 207 284 276 287 268 298 249 296 249 205 273 231 262 212 235 201 249\n",
            " 224 253 272 252 248 281 254 284 267 255 224 203 200 239 270 207 273 217\n",
            " 294 251 261 292 232 287 266 273 275 272 245 286 212 232 215 279 245 299\n",
            " 224 226 240 275 235 223 270 277 214 287 221 287 224 257 284 262 257 231\n",
            " 226 226 260 235 244 286 245 261 223 250 283 237 233 207 273 297 235 255\n",
            " 283 261 241 280 249 245 253 274 223 238 235 266 203 222 287 263 256 283\n",
            " 214 210 248 284 203 293 204 206 257 274 286 212 205 276 266 222 214 201\n",
            " 277 210 203 240 213 263 243 251 238 282 204 299 239 284 220 210 243 258\n",
            " 224 287 237 248 297 217 231 246 232 218 231 233 207 223 273 241 239 230\n",
            " 272 245 210 212 258 268 230 231 269 296 227 253 294 208 254 280 211 267\n",
            " 216 296 270 293 282 279 289 229 288 200 261 265 245 242 241 225 202 256\n",
            " 269 246 257 229 203 200 210 288 273 254 253 214 212 279 259 275 298 227\n",
            " 256 263 244 257 220 256 219 270 234 258 217 286 230 274]\n"
          ]
        }
      ]
    },
    {
      "cell_type": "code",
      "source": [
        "#Compare the given list of visualization for the given data.\n",
        "#Frequency and Gausian distribution\n",
        "import matplotlib.pyplot as plt\n",
        "plt.hist(int_list2,bins=20,color='red')\n",
        "plt.xlabel('Value')\n",
        "plt.ylabel('Frequency')\n",
        "plt.title('Histogram of Data')\n",
        "plt.show()"
      ],
      "metadata": {
        "colab": {
          "base_uri": "https://localhost:8080/",
          "height": 472
        },
        "id": "coGo0LC7AiHt",
        "outputId": "5e0bd83b-2e8b-447d-d79c-710a4f7a70b9"
      },
      "execution_count": null,
      "outputs": [
        {
          "output_type": "display_data",
          "data": {
            "text/plain": [
              "<Figure size 640x480 with 1 Axes>"
            ],
            "image/png": "[encoded data removed]"
          },
          "metadata": {}
        }
      ]
    },
    {
      "cell_type": "code",
      "source": [
        "#Gausian distribution\n",
        "import matplotlib.pyplot as plt\n",
        "import scipy.stats as stats\n",
        "density = stats.gaussian_kde(int_list2)\n",
        "x = np.linspace(min(int_list2), max(int_list2), 100)\n",
        "plt.plot(x, density(x))\n",
        "plt.xlabel('Value')\n",
        "plt.ylabel('Density')\n",
        "plt.title('Gaussian Distribution of Data')\n",
        "plt.show()"
      ],
      "metadata": {
        "colab": {
          "base_uri": "https://localhost:8080/",
          "height": 472
        },
        "id": "knvip_IKBjsM",
        "outputId": "50e3f1c7-38a8-4785-be5f-4b3df686938d"
      },
      "execution_count": null,
      "outputs": [
        {
          "output_type": "display_data",
          "data": {
            "text/plain": [
              "<Figure size 640x480 with 1 Axes>"
            ],
            "image/png": "[encoded data removed]"
          },
          "metadata": {}
        }
      ]
    },
    {
      "cell_type": "code",
      "source": [
        "#Frequency smoothened KDE plot\n",
        "import matplotlib.pyplot as plt\n",
        "import seaborn as sns\n",
        "sns.kdeplot(int_list2,fill=True)\n",
        "plt.xlabel('Value')\n",
        "plt.ylabel('Density')\n",
        "plt.title('Frequency Smoothened KDE Plot')\n",
        "plt.show()"
      ],
      "metadata": {
        "colab": {
          "base_uri": "https://localhost:8080/",
          "height": 472
        },
        "id": "-BRczA_bFesc",
        "outputId": "8419dd2c-5025-4bb7-bd86-64b2b82fe15b"
      },
      "execution_count": null,
      "outputs": [
        {
          "output_type": "display_data",
          "data": {
            "text/plain": [
              "<Figure size 640x480 with 1 Axes>"
            ],
            "image/png": "[encoded data removed]"
          },
          "metadata": {}
        }
      ]
    },
    {
      "cell_type": "markdown",
      "source": [
        "#Gaussian distribution and smoothened KDE plot\n",
        "Gaussian distribution is a continuous bell-shaped curve represents the data which is not actual.It is good for representing the theorical data.\n",
        "\n",
        "Smoothened KDE plot is smooth and continuous curve good for representing small datasets and it is sensitive to bandwidth as it can affect the smoothness of the curve.\n",
        "\n"
      ],
      "metadata": {
        "id": "JWOUKSWHMy5o"
      }
    },
    {
      "cell_type": "code",
      "source": [
        "#Write a python function to calculate the range of a given list of numbers.\n",
        "def range(int_list2):\n",
        "    return max(int_list2)-min(int_list2)\n",
        "print(range(int_list2))"
      ],
      "metadata": {
        "colab": {
          "base_uri": "https://localhost:8080/"
        },
        "id": "4qrqMtjSNtty",
        "outputId": "53185b74-ff31-4ddd-bcd4-b5e450c17050"
      },
      "execution_count": null,
      "outputs": [
        {
          "output_type": "stream",
          "name": "stdout",
          "text": [
            "99\n"
          ]
        }
      ]
    },
    {
      "cell_type": "code",
      "source": [
        "#Create a program to find the variance and standard deviation of a list of numbers.\n",
        "np.var(int_list2)"
      ],
      "metadata": {
        "colab": {
          "base_uri": "https://localhost:8080/"
        },
        "id": "hjOy5IAuOQfA",
        "outputId": "09c07d3c-084d-44ef-fa57-afcea1bf10ae"
      },
      "execution_count": null,
      "outputs": [
        {
          "output_type": "execute_result",
          "data": {
            "text/plain": [
              "872.0871159999999"
            ]
          },
          "metadata": {},
          "execution_count": 8
        }
      ]
    },
    {
      "cell_type": "code",
      "source": [
        "np.std(int_list2)"
      ],
      "metadata": {
        "colab": {
          "base_uri": "https://localhost:8080/"
        },
        "id": "KVgDC7rbPEQC",
        "outputId": "cd041d71-5f7c-41a5-825c-fdc5946092b0"
      },
      "execution_count": null,
      "outputs": [
        {
          "output_type": "execute_result",
          "data": {
            "text/plain": [
              "29.531121143634216"
            ]
          },
          "metadata": {},
          "execution_count": 9
        }
      ]
    },
    {
      "cell_type": "code",
      "source": [
        "#Implement a function to compute the interquatile range (IQR) of a list of values.\n",
        "def iqr(values):\n",
        "    values.sort()\n",
        "    q1 = values[int(len(values)*0.25)]\n",
        "    q3 = values[int(len(values)*0.75)]\n",
        "    return q3 - q1\n",
        "iqr(int_list2)"
      ],
      "metadata": {
        "colab": {
          "base_uri": "https://localhost:8080/"
        },
        "id": "Aqh8OzIGQBwU",
        "outputId": "3bc152b4-fa0e-43c6-a538-ecfa71736d2f"
      },
      "execution_count": null,
      "outputs": [
        {
          "output_type": "execute_result",
          "data": {
            "text/plain": [
              "51"
            ]
          },
          "metadata": {},
          "execution_count": 10
        }
      ]
    },
    {
      "cell_type": "code",
      "source": [
        "#Build a program to calculate the coefficient of variance of a dataset.\n",
        "def coefficient_of_variance(x):\n",
        "    return np.std(x) / np.mean(x)\n",
        "coefficient_of_variance(int_list2)"
      ],
      "metadata": {
        "colab": {
          "base_uri": "https://localhost:8080/"
        },
        "id": "SHKCpsbQAWg2",
        "outputId": "0749f900-da60-42ba-8ae5-78ccd6567f85"
      },
      "execution_count": null,
      "outputs": [
        {
          "output_type": "execute_result",
          "data": {
            "text/plain": [
              "0.11192687646359317"
            ]
          },
          "metadata": {},
          "execution_count": 4
        }
      ]
    },
    {
      "cell_type": "code",
      "source": [
        "#Write a python program to find the mean absolute deviation (MAD) of a list.\n",
        "def mad(int_list2):\n",
        "    mean = sum(int_list2) / len(int_list2)\n",
        "    sum_of_deviations = 0\n",
        "    for num in int_list2:\n",
        "        deviation = abs(num - mean)\n",
        "        sum_of_deviations += deviation\n",
        "    mad = sum_of_deviations / len(int_list2)\n",
        "    return mad\n",
        "mad(int_list2)"
      ],
      "metadata": {
        "colab": {
          "base_uri": "https://localhost:8080/"
        },
        "id": "xfel583NCTJ8",
        "outputId": "0f86a533-49d5-4f59-dd3e-3d5a2216281b"
      },
      "execution_count": null,
      "outputs": [
        {
          "output_type": "execute_result",
          "data": {
            "text/plain": [
              "23.88499200000002"
            ]
          },
          "metadata": {},
          "execution_count": 7
        }
      ]
    },
    {
      "cell_type": "code",
      "source": [
        "#Create a program to calculate the quartile deviation of list of values.\n",
        "def quartile_deviation(x):\n",
        "  q1 = np.percentile(x, 25)\n",
        "  q3 = np.percentile(x, 75)\n",
        "  return q3 - q1\n",
        "quartile_deviation(int_list2)"
      ],
      "metadata": {
        "colab": {
          "base_uri": "https://localhost:8080/"
        },
        "id": "j1aCLjdLFbP0",
        "outputId": "7d7fc727-d763-4a8e-94a3-9866cd8e02a3"
      },
      "execution_count": null,
      "outputs": [
        {
          "output_type": "execute_result",
          "data": {
            "text/plain": [
              "45.0"
            ]
          },
          "metadata": {},
          "execution_count": 9
        }
      ]
    },
    {
      "cell_type": "code",
      "source": [
        "#Implement a function to find the range based coefficient of dispersion for a dataset.\n",
        "def coeff_of_dispersion(x):\n",
        "    d_range = max(x) - min(x)\n",
        "    m_range = (max(x) + min(x)) / 2\n",
        "    coeff_of_dispersion = d_range / m_range\n",
        "    return coeff_of_dispersion\n",
        "coeff_of_dispersion(int_list2)"
      ],
      "metadata": {
        "colab": {
          "base_uri": "https://localhost:8080/"
        },
        "id": "1UV11qrKHk0r",
        "outputId": "b09c1984-34ee-4a17-e8c6-c31b4739f692"
      },
      "execution_count": null,
      "outputs": [
        {
          "output_type": "execute_result",
          "data": {
            "text/plain": [
              "0.3967935871743487"
            ]
          },
          "metadata": {},
          "execution_count": 10
        }
      ]
    },
    {
      "cell_type": "code",
      "source": [
        "#Write a python class representing a discrete random variable with methods to calculate its expected value and variance.\n",
        "class Discreterandom:\n",
        "    def __init__(self, value, probability):\n",
        "        self.value = value\n",
        "        self.prob = probability\n",
        "    def expected_value(self):\n",
        "        import numpy as np\n",
        "        return np.average(self.value, weights=self.prob)\n",
        "    def variance(self):\n",
        "        mean = sum(val * prob for val, prob in zip(self.value, self.prob))#zip function takes two or more list and yields one tuple for a inputted element in list\n",
        "        squared_diff = [(val - mean) ** 2 * prob for val, prob in zip(self.value, self.prob)]\n",
        "        return sum(squared_diff)"
      ],
      "metadata": {
        "id": "TPeGUKQ0ltzw"
      },
      "execution_count": null,
      "outputs": []
    },
    {
      "cell_type": "code",
      "source": [
        "# Implement a program to simulate the rolling of a fair six-sided die and calculate the expected value and variance of the outcomes.\n",
        "def calculate(outcomes,probabilities):\n",
        "  expected_value = np.sum(np.multiply(outcomes, probabilities))\n",
        "  print(\"Expected Value:\", expected_value)\n",
        "  mean = expected_value\n",
        "  variance = np.sum(np.multiply(np.square(np.subtract(outcomes, mean)), probabilities))#as per formula\n",
        "  print(\"Variance:\", variance)\n",
        "import numpy as np\n",
        "#function call with outcomes and probabilites list"
      ],
      "metadata": {
        "id": "W9a2LxR4svBw"
      },
      "execution_count": null,
      "outputs": []
    },
    {
      "cell_type": "code",
      "source": [
        "#Create a python function to generate random samples from a given probability distribution(e.g binomial , Poisson) and calculate their mean and variance.\n",
        "import random\n",
        "def generate_binomial_samples(sample, n, p):# Binomial Distribution\n",
        "    sample = [sum(1 for i in range(n) if random.random() < p) for i in range(sample)]\n",
        "    mean = sum(sample) / samples\n",
        "    variance = sum((x - mean) ** 2 for x in sample) / samples\n",
        "    return sample, mean, variance\n",
        "samples = 1000\n",
        "n = 10\n",
        "p = 0.5\n",
        "binomial_samples, binomial_mean, binomial_variance = generate_binomial_samples(samples, n, p)\n",
        "print(\"Binomial Distribution:\")\n",
        "print(\"Samples:\", binomial_samples)\n",
        "print(\"Mean:\", binomial_mean)\n",
        "print(\"Variance:\", binomial_variance)"
      ],
      "metadata": {
        "colab": {
          "base_uri": "https://localhost:8080/"
        },
        "id": "O7JHGmOtydkE",
        "outputId": "ab66c64b-36ac-4990-fc88-1e37842ac151"
      },
      "execution_count": null,
      "outputs": [
        {
          "output_type": "stream",
          "name": "stdout",
          "text": [
            "Binomial Distribution:\n",
            "Samples: [3, 5, 5, 3, 4, 7, 3, 5, 7, 4, 7, 5, 5, 7, 9, 5, 6, 4, 4, 8, 4, 3, 6, 3, 5, 4, 2, 7, 3, 6, 5, 4, 6, 7, 4, 5, 5, 5, 5, 5, 5, 5, 8, 5, 5, 6, 7, 3, 5, 6, 3, 3, 3, 6, 5, 8, 3, 6, 5, 2, 4, 4, 3, 3, 4, 3, 8, 3, 2, 4, 6, 6, 4, 3, 4, 3, 2, 4, 3, 3, 5, 7, 5, 4, 4, 4, 5, 7, 4, 6, 6, 8, 4, 3, 7, 5, 5, 5, 4, 6, 5, 4, 3, 5, 3, 4, 4, 6, 6, 5, 6, 3, 7, 5, 4, 3, 8, 3, 7, 2, 6, 3, 4, 6, 5, 5, 0, 6, 5, 2, 2, 6, 5, 2, 3, 5, 6, 8, 4, 5, 4, 6, 7, 4, 4, 4, 4, 6, 4, 4, 7, 7, 4, 4, 7, 5, 7, 5, 4, 7, 6, 7, 1, 5, 4, 5, 8, 6, 4, 2, 3, 4, 3, 4, 5, 4, 4, 5, 6, 5, 5, 2, 5, 3, 5, 3, 4, 7, 4, 3, 4, 5, 7, 3, 3, 7, 4, 6, 5, 2, 4, 5, 2, 4, 7, 7, 6, 3, 6, 5, 6, 4, 5, 5, 8, 4, 4, 4, 6, 6, 4, 6, 5, 3, 3, 5, 7, 8, 3, 2, 6, 4, 7, 6, 7, 3, 4, 5, 4, 5, 5, 5, 5, 3, 6, 5, 4, 3, 7, 5, 6, 2, 5, 6, 5, 6, 4, 2, 6, 6, 5, 3, 6, 5, 4, 8, 7, 5, 5, 8, 8, 4, 7, 7, 8, 4, 5, 6, 8, 6, 8, 6, 5, 4, 7, 5, 5, 3, 4, 6, 5, 6, 4, 7, 6, 8, 5, 5, 8, 3, 8, 5, 5, 4, 5, 4, 8, 6, 6, 8, 7, 5, 5, 3, 5, 5, 6, 7, 6, 6, 6, 3, 8, 6, 5, 7, 3, 3, 4, 3, 3, 7, 6, 5, 6, 5, 7, 7, 6, 5, 5, 2, 3, 6, 6, 7, 5, 9, 5, 3, 7, 2, 4, 4, 3, 6, 5, 3, 4, 4, 5, 5, 5, 4, 6, 4, 5, 5, 4, 5, 5, 5, 8, 3, 4, 7, 7, 4, 6, 4, 3, 5, 2, 6, 6, 4, 6, 2, 7, 5, 6, 7, 6, 2, 5, 5, 5, 7, 4, 5, 5, 5, 4, 6, 5, 6, 6, 6, 7, 3, 4, 4, 3, 4, 4, 6, 6, 2, 5, 6, 3, 6, 7, 4, 5, 6, 9, 5, 6, 1, 4, 3, 6, 4, 3, 6, 4, 6, 4, 8, 3, 7, 7, 6, 6, 7, 5, 8, 5, 7, 2, 3, 4, 6, 6, 4, 5, 5, 8, 5, 3, 3, 7, 4, 6, 6, 4, 6, 6, 5, 2, 4, 4, 5, 5, 3, 3, 5, 6, 7, 4, 6, 6, 4, 8, 3, 3, 3, 6, 3, 3, 6, 6, 6, 1, 4, 4, 5, 7, 2, 7, 4, 7, 7, 1, 7, 6, 4, 6, 6, 4, 3, 2, 4, 5, 6, 5, 3, 4, 6, 7, 7, 5, 7, 7, 4, 7, 3, 5, 6, 6, 3, 6, 5, 8, 2, 3, 4, 4, 5, 6, 6, 7, 4, 2, 7, 5, 5, 5, 7, 5, 2, 7, 7, 5, 7, 5, 4, 4, 7, 4, 6, 3, 4, 6, 4, 7, 5, 6, 2, 8, 4, 4, 6, 6, 4, 7, 8, 2, 3, 8, 7, 6, 7, 6, 5, 4, 5, 6, 4, 4, 6, 6, 2, 5, 6, 2, 5, 5, 4, 7, 6, 5, 5, 7, 2, 5, 5, 6, 4, 1, 4, 4, 5, 5, 4, 7, 5, 7, 4, 3, 1, 6, 6, 4, 3, 5, 4, 6, 6, 5, 6, 6, 5, 3, 8, 6, 4, 5, 4, 4, 6, 4, 6, 4, 7, 5, 4, 3, 6, 4, 2, 7, 6, 6, 5, 5, 4, 4, 5, 7, 6, 4, 4, 7, 3, 7, 6, 6, 5, 5, 4, 4, 6, 5, 7, 4, 6, 3, 5, 2, 5, 4, 7, 5, 7, 4, 4, 6, 3, 7, 7, 4, 8, 5, 6, 6, 5, 6, 5, 4, 3, 5, 5, 4, 7, 6, 5, 7, 6, 5, 7, 6, 4, 5, 5, 5, 5, 6, 4, 5, 5, 6, 8, 2, 4, 6, 5, 5, 5, 4, 5, 4, 6, 5, 3, 7, 7, 6, 7, 6, 6, 5, 6, 4, 4, 4, 7, 4, 5, 6, 5, 4, 5, 5, 3, 4, 5, 7, 5, 6, 7, 7, 4, 7, 7, 6, 3, 6, 5, 6, 6, 6, 6, 5, 3, 6, 3, 5, 5, 5, 5, 2, 5, 7, 5, 6, 7, 7, 6, 6, 4, 3, 5, 6, 6, 4, 5, 6, 4, 5, 4, 3, 4, 7, 5, 6, 7, 6, 9, 6, 3, 7, 6, 1, 5, 5, 6, 6, 3, 4, 4, 4, 4, 5, 3, 6, 5, 7, 6, 3, 2, 6, 4, 5, 5, 4, 5, 5, 8, 2, 8, 3, 7, 4, 5, 5, 4, 5, 3, 7, 6, 7, 2, 4, 5, 4, 3, 3, 5, 5, 8, 4, 3, 5, 6, 3, 5, 5, 7, 4, 6, 4, 5, 4, 5, 3, 3, 6, 6, 5, 5, 8, 7, 2, 4, 4, 5, 4, 4, 6, 6, 5, 4, 7, 3, 7, 7, 6, 6, 7, 7, 5, 5, 7, 8, 7, 2, 5, 3, 4, 6, 5, 3, 5, 5, 7, 5, 4, 5, 4, 7, 6, 6, 5, 6, 4, 5, 3, 7, 3, 8, 4, 1, 4, 7, 7, 2, 7, 6, 2, 5, 3, 3, 5, 3, 3, 6, 3, 8, 5, 6, 4, 7, 8, 4, 5, 5, 4, 4, 0, 6, 5, 3, 6, 8, 6, 4, 3, 7, 7, 5, 5, 4, 4, 2, 5, 4, 2, 7, 5, 4, 5, 8, 1, 3, 5, 5, 4, 3, 6, 3, 5, 5, 3, 4, 3, 2, 6, 3]\n",
            "Mean: 4.968\n",
            "Variance: 2.4889759999999965\n"
          ]
        }
      ]
    },
    {
      "cell_type": "code",
      "source": [
        "# Write a Python script to generate random numbers from a Gaussian (normal) distribution and compute the mean, variance, and standard deviation of the samples.\n",
        "import numpy as np\n",
        "mean = 0\n",
        "std_dev = 1\n",
        "num_samples = 1000\n",
        "samples = np.random.normal(mean, std_dev, num_samples)\n",
        "sample_mean = np.mean(samples)\n",
        "sample_variance = np.var(samples)\n",
        "sample_std_dev = np.std(samples)\n",
        "print(\"Sample mean:\", sample_mean)\n",
        "print(\"Sample variance:\", sample_variance)\n",
        "print(\"Sample standard deviation:\", sample_std_dev)"
      ],
      "metadata": {
        "colab": {
          "base_uri": "https://localhost:8080/"
        },
        "id": "w5XDIIc-Aiwz",
        "outputId": "ab586e0c-2778-4a7d-f316-f9b3f3066c92"
      },
      "execution_count": null,
      "outputs": [
        {
          "output_type": "stream",
          "name": "stdout",
          "text": [
            "Sample mean: 0.03658704388228036\n",
            "Sample variance: 0.9734639699610993\n",
            "Sample standard deviation: 0.9866427772811694\n"
          ]
        }
      ]
    },
    {
      "cell_type": "code",
      "source": [
        "#Use seaborn libraries to load tips dataset. Find the following from the dataset for the columns total_bill and tip`:\n",
        "import seaborn as sns\n",
        "sns.load_dataset('tips')"
      ],
      "metadata": {
        "colab": {
          "base_uri": "https://localhost:8080/",
          "height": 423
        },
        "id": "NYybmk7XLk3X",
        "outputId": "8b9d61c8-d4f5-4d26-9242-4e2a3a677e87"
      },
      "execution_count": null,
      "outputs": [
        {
          "output_type": "execute_result",
          "data": {
            "text/plain": [
              "     total_bill   tip     sex smoker   day    time  size\n",
              "0         16.99  1.01  Female     No   Sun  Dinner     2\n",
              "1         10.34  1.66    Male     No   Sun  Dinner     3\n",
              "2         21.01  3.50    Male     No   Sun  Dinner     3\n",
              "3         23.68  3.31    Male     No   Sun  Dinner     2\n",
              "4         24.59  3.61  Female     No   Sun  Dinner     4\n",
              "..          ...   ...     ...    ...   ...     ...   ...\n",
              "239       29.03  5.92    Male     No   Sat  Dinner     3\n",
              "240       27.18  2.00  Female    Yes   Sat  Dinner     2\n",
              "241       22.67  2.00    Male    Yes   Sat  Dinner     2\n",
              "242       17.82  1.75    Male     No   Sat  Dinner     2\n",
              "243       18.78  3.00  Female     No  Thur  Dinner     2\n",
              "\n",
              "[244 rows x 7 columns]"
            ],
            "text/html": [
              "\n",
              "  <div id=\"df-32e15e7c-c384-4b94-ac8f-6007a455d718\" class=\"colab-df-container\">\n",
              "    <div>\n",
              "<style scoped>\n",
              "    .dataframe tbody tr th:only-of-type {\n",
              "        vertical-align: middle;\n",
              "    }\n",
              "\n",
              "    .dataframe tbody tr th {\n",
              "        vertical-align: top;\n",
              "    }\n",
              "\n",
              "    .dataframe thead th {\n",
              "        text-align: right;\n",
              "    }\n",
              "</style>\n",
              "<table border=\"1\" class=\"dataframe\">\n",
              "  <thead>\n",
              "    <tr style=\"text-align: right;\">\n",
              "      <th></th>\n",
              "      <th>total_bill</th>\n",
              "      <th>tip</th>\n",
              "      <th>sex</th>\n",
              "      <th>smoker</th>\n",
              "      <th>day</th>\n",
              "      <th>time</th>\n",
              "      <th>size</th>\n",
              "    </tr>\n",
              "  </thead>\n",
              "  <tbody>\n",
              "    <tr>\n",
              "      <th>0</th>\n",
              "      <td>16.99</td>\n",
              "      <td>1.01</td>\n",
              "      <td>Female</td>\n",
              "      <td>No</td>\n",
              "      <td>Sun</td>\n",
              "      <td>Dinner</td>\n",
              "      <td>2</td>\n",
              "    </tr>\n",
              "    <tr>\n",
              "      <th>1</th>\n",
              "      <td>10.34</td>\n",
              "      <td>1.66</td>\n",
              "      <td>Male</td>\n",
              "      <td>No</td>\n",
              "      <td>Sun</td>\n",
              "      <td>Dinner</td>\n",
              "      <td>3</td>\n",
              "    </tr>\n",
              "    <tr>\n",
              "      <th>2</th>\n",
              "      <td>21.01</td>\n",
              "      <td>3.50</td>\n",
              "      <td>Male</td>\n",
              "      <td>No</td>\n",
              "      <td>Sun</td>\n",
              "      <td>Dinner</td>\n",
              "      <td>3</td>\n",
              "    </tr>\n",
              "    <tr>\n",
              "      <th>3</th>\n",
              "      <td>23.68</td>\n",
              "      <td>3.31</td>\n",
              "      <td>Male</td>\n",
              "      <td>No</td>\n",
              "      <td>Sun</td>\n",
              "      <td>Dinner</td>\n",
              "      <td>2</td>\n",
              "    </tr>\n",
              "    <tr>\n",
              "      <th>4</th>\n",
              "      <td>24.59</td>\n",
              "      <td>3.61</td>\n",
              "      <td>Female</td>\n",
              "      <td>No</td>\n",
              "      <td>Sun</td>\n",
              "      <td>Dinner</td>\n",
              "      <td>4</td>\n",
              "    </tr>\n",
              "    <tr>\n",
              "      <th>...</th>\n",
              "      <td>...</td>\n",
              "      <td>...</td>\n",
              "      <td>...</td>\n",
              "      <td>...</td>\n",
              "      <td>...</td>\n",
              "      <td>...</td>\n",
              "      <td>...</td>\n",
              "    </tr>\n",
              "    <tr>\n",
              "      <th>239</th>\n",
              "      <td>29.03</td>\n",
              "      <td>5.92</td>\n",
              "      <td>Male</td>\n",
              "      <td>No</td>\n",
              "      <td>Sat</td>\n",
              "      <td>Dinner</td>\n",
              "      <td>3</td>\n",
              "    </tr>\n",
              "    <tr>\n",
              "      <th>240</th>\n",
              "      <td>27.18</td>\n",
              "      <td>2.00</td>\n",
              "      <td>Female</td>\n",
              "      <td>Yes</td>\n",
              "      <td>Sat</td>\n",
              "      <td>Dinner</td>\n",
              "      <td>2</td>\n",
              "    </tr>\n",
              "    <tr>\n",
              "      <th>241</th>\n",
              "      <td>22.67</td>\n",
              "      <td>2.00</td>\n",
              "      <td>Male</td>\n",
              "      <td>Yes</td>\n",
              "      <td>Sat</td>\n",
              "      <td>Dinner</td>\n",
              "      <td>2</td>\n",
              "    </tr>\n",
              "    <tr>\n",
              "      <th>242</th>\n",
              "      <td>17.82</td>\n",
              "      <td>1.75</td>\n",
              "      <td>Male</td>\n",
              "      <td>No</td>\n",
              "      <td>Sat</td>\n",
              "      <td>Dinner</td>\n",
              "      <td>2</td>\n",
              "    </tr>\n",
              "    <tr>\n",
              "      <th>243</th>\n",
              "      <td>18.78</td>\n",
              "      <td>3.00</td>\n",
              "      <td>Female</td>\n",
              "      <td>No</td>\n",
              "      <td>Thur</td>\n",
              "      <td>Dinner</td>\n",
              "      <td>2</td>\n",
              "    </tr>\n",
              "  </tbody>\n",
              "</table>\n",
              "<p>244 rows × 7 columns</p>\n",
              "</div>\n",
              "    <div class=\"colab-df-buttons\">\n",
              "\n",
              "  <div class=\"colab-df-container\">\n",
              "    <button class=\"colab-df-convert\" onclick=\"convertToInteractive('df-32e15e7c-c384-4b94-ac8f-6007a455d718')\"\n",
              "            title=\"Convert this dataframe to an interactive table.\"\n",
              "            style=\"display:none;\">\n",
              "\n",
              "  <svg xmlns=\"http://www.w3.org/2000/svg\" height=\"24px\" viewBox=\"0 -960 960 960\">\n",
              "    <path d=\"M120-120v-720h720v720H120Zm60-500h600v-160H180v160Zm220 220h160v-160H400v160Zm0 220h160v-160H400v160ZM180-400h160v-160H180v160Zm440 0h160v-160H620v160ZM180-180h160v-160H180v160Zm440 0h160v-160H620v160Z\"/>\n",
              "  </svg>\n",
              "    </button>\n",
              "\n",
              "  <style>\n",
              "    .colab-df-container {\n",
              "      display:flex;\n",
              "      gap: 12px;\n",
              "    }\n",
              "\n",
              "    .colab-df-convert {\n",
              "      background-color: #E8F0FE;\n",
              "      border: none;\n",
              "      border-radius: 50%;\n",
              "      cursor: pointer;\n",
              "      display: none;\n",
              "      fill: #1967D2;\n",
              "      height: 32px;\n",
              "      padding: 0 0 0 0;\n",
              "      width: 32px;\n",
              "    }\n",
              "\n",
              "    .colab-df-convert:hover {\n",
              "      background-color: #E2EBFA;\n",
              "      box-shadow: 0px 1px 2px rgba(60, 64, 67, 0.3), 0px 1px 3px 1px rgba(60, 64, 67, 0.15);\n",
              "      fill: #174EA6;\n",
              "    }\n",
              "\n",
              "    .colab-df-buttons div {\n",
              "      margin-bottom: 4px;\n",
              "    }\n",
              "\n",
              "    [theme=dark] .colab-df-convert {\n",
              "      background-color: #3B4455;\n",
              "      fill: #D2E3FC;\n",
              "    }\n",
              "\n",
              "    [theme=dark] .colab-df-convert:hover {\n",
              "      background-color: #434B5C;\n",
              "      box-shadow: 0px 1px 3px 1px rgba(0, 0, 0, 0.15);\n",
              "      filter: drop-shadow(0px 1px 2px rgba(0, 0, 0, 0.3));\n",
              "      fill: #FFFFFF;\n",
              "    }\n",
              "  </style>\n",
              "\n",
              "    <script>\n",
              "      const buttonEl =\n",
              "        document.querySelector('#df-32e15e7c-c384-4b94-ac8f-6007a455d718 button.colab-df-convert');\n",
              "      buttonEl.style.display =\n",
              "        google.colab.kernel.accessAllowed ? 'block' : 'none';\n",
              "\n",
              "      async function convertToInteractive(key) {\n",
              "        const element = document.querySelector('#df-32e15e7c-c384-4b94-ac8f-6007a455d718');\n",
              "        const dataTable =\n",
              "          await google.colab.kernel.invokeFunction('convertToInteractive',\n",
              "                                                    [key], {});\n",
              "        if (!dataTable) return;\n",
              "\n",
              "        const docLinkHtml = 'Like what you see? Visit the ' +\n",
              "          '<a target=\"_blank\" href=https://colab.research.google.com/notebooks/data_table.ipynb>data table notebook</a>'\n",
              "          + ' to learn more about interactive tables.';\n",
              "        element.innerHTML = '';\n",
              "        dataTable['output_type'] = 'display_data';\n",
              "        await google.colab.output.renderOutput(dataTable, element);\n",
              "        const docLink = document.createElement('div');\n",
              "        docLink.innerHTML = docLinkHtml;\n",
              "        element.appendChild(docLink);\n",
              "      }\n",
              "    </script>\n",
              "  </div>\n",
              "\n",
              "\n",
              "<div id=\"df-f02ecf69-1fa8-4b0f-a46a-09cb46bee23c\">\n",
              "  <button class=\"colab-df-quickchart\" onclick=\"quickchart('df-f02ecf69-1fa8-4b0f-a46a-09cb46bee23c')\"\n",
              "            title=\"Suggest charts\"\n",
              "            style=\"display:none;\">\n",
              "\n",
              "<svg xmlns=\"http://www.w3.org/2000/svg\" height=\"24px\"viewBox=\"0 0 24 24\"\n",
              "     width=\"24px\">\n",
              "    <g>\n",
              "        <path d=\"M19 3H5c-1.1 0-2 .9-2 2v14c0 1.1.9 2 2 2h14c1.1 0 2-.9 2-2V5c0-1.1-.9-2-2-2zM9 17H7v-7h2v7zm4 0h-2V7h2v10zm4 0h-2v-4h2v4z\"/>\n",
              "    </g>\n",
              "</svg>\n",
              "  </button>\n",
              "\n",
              "<style>\n",
              "  .colab-df-quickchart {\n",
              "      --bg-color: #E8F0FE;\n",
              "      --fill-color: #1967D2;\n",
              "      --hover-bg-color: #E2EBFA;\n",
              "      --hover-fill-color: #174EA6;\n",
              "      --disabled-fill-color: #AAA;\n",
              "      --disabled-bg-color: #DDD;\n",
              "  }\n",
              "\n",
              "  [theme=dark] .colab-df-quickchart {\n",
              "      --bg-color: #3B4455;\n",
              "      --fill-color: #D2E3FC;\n",
              "      --hover-bg-color: #434B5C;\n",
              "      --hover-fill-color: #FFFFFF;\n",
              "      --disabled-bg-color: #3B4455;\n",
              "      --disabled-fill-color: #666;\n",
              "  }\n",
              "\n",
              "  .colab-df-quickchart {\n",
              "    background-color: var(--bg-color);\n",
              "    border: none;\n",
              "    border-radius: 50%;\n",
              "    cursor: pointer;\n",
              "    display: none;\n",
              "    fill: var(--fill-color);\n",
              "    height: 32px;\n",
              "    padding: 0;\n",
              "    width: 32px;\n",
              "  }\n",
              "\n",
              "  .colab-df-quickchart:hover {\n",
              "    background-color: var(--hover-bg-color);\n",
              "    box-shadow: 0 1px 2px rgba(60, 64, 67, 0.3), 0 1px 3px 1px rgba(60, 64, 67, 0.15);\n",
              "    fill: var(--button-hover-fill-color);\n",
              "  }\n",
              "\n",
              "  .colab-df-quickchart-complete:disabled,\n",
              "  .colab-df-quickchart-complete:disabled:hover {\n",
              "    background-color: var(--disabled-bg-color);\n",
              "    fill: var(--disabled-fill-color);\n",
              "    box-shadow: none;\n",
              "  }\n",
              "\n",
              "  .colab-df-spinner {\n",
              "    border: 2px solid var(--fill-color);\n",
              "    border-color: transparent;\n",
              "    border-bottom-color: var(--fill-color);\n",
              "    animation:\n",
              "      spin 1s steps(1) infinite;\n",
              "  }\n",
              "\n",
              "  @keyframes spin {\n",
              "    0% {\n",
              "      border-color: transparent;\n",
              "      border-bottom-color: var(--fill-color);\n",
              "      border-left-color: var(--fill-color);\n",
              "    }\n",
              "    20% {\n",
              "      border-color: transparent;\n",
              "      border-left-color: var(--fill-color);\n",
              "      border-top-color: var(--fill-color);\n",
              "    }\n",
              "    30% {\n",
              "      border-color: transparent;\n",
              "      border-left-color: var(--fill-color);\n",
              "      border-top-color: var(--fill-color);\n",
              "      border-right-color: var(--fill-color);\n",
              "    }\n",
              "    40% {\n",
              "      border-color: transparent;\n",
              "      border-right-color: var(--fill-color);\n",
              "      border-top-color: var(--fill-color);\n",
              "    }\n",
              "    60% {\n",
              "      border-color: transparent;\n",
              "      border-right-color: var(--fill-color);\n",
              "    }\n",
              "    80% {\n",
              "      border-color: transparent;\n",
              "      border-right-color: var(--fill-color);\n",
              "      border-bottom-color: var(--fill-color);\n",
              "    }\n",
              "    90% {\n",
              "      border-color: transparent;\n",
              "      border-bottom-color: var(--fill-color);\n",
              "    }\n",
              "  }\n",
              "</style>\n",
              "\n",
              "  <script>\n",
              "    async function quickchart(key) {\n",
              "      const quickchartButtonEl =\n",
              "        document.querySelector('#' + key + ' button');\n",
              "      quickchartButtonEl.disabled = true;  // To prevent multiple clicks.\n",
              "      quickchartButtonEl.classList.add('colab-df-spinner');\n",
              "      try {\n",
              "        const charts = await google.colab.kernel.invokeFunction(\n",
              "            'suggestCharts', [key], {});\n",
              "      } catch (error) {\n",
              "        console.error('Error during call to suggestCharts:', error);\n",
              "      }\n",
              "      quickchartButtonEl.classList.remove('colab-df-spinner');\n",
              "      quickchartButtonEl.classList.add('colab-df-quickchart-complete');\n",
              "    }\n",
              "    (() => {\n",
              "      let quickchartButtonEl =\n",
              "        document.querySelector('#df-f02ecf69-1fa8-4b0f-a46a-09cb46bee23c button');\n",
              "      quickchartButtonEl.style.display =\n",
              "        google.colab.kernel.accessAllowed ? 'block' : 'none';\n",
              "    })();\n",
              "  </script>\n",
              "</div>\n",
              "\n",
              "    </div>\n",
              "  </div>\n"
            ],
            "application/vnd.google.colaboratory.intrinsic+json": {
              "type": "dataframe",
              "summary": "{\n  \"name\": \"sns\",\n  \"rows\": 244,\n  \"fields\": [\n    {\n      \"column\": \"total_bill\",\n      \"properties\": {\n        \"dtype\": \"number\",\n        \"std\": 8.902411954856856,\n        \"min\": 3.07,\n        \"max\": 50.81,\n        \"num_unique_values\": 229,\n        \"samples\": [\n          22.12,\n          20.23,\n          14.78\n        ],\n        \"semantic_type\": \"\",\n        \"description\": \"\"\n      }\n    },\n    {\n      \"column\": \"tip\",\n      \"properties\": {\n        \"dtype\": \"number\",\n        \"std\": 1.3836381890011822,\n        \"min\": 1.0,\n        \"max\": 10.0,\n        \"num_unique_values\": 123,\n        \"samples\": [\n          3.35,\n          1.5,\n          6.73\n        ],\n        \"semantic_type\": \"\",\n        \"description\": \"\"\n      }\n    },\n    {\n      \"column\": \"sex\",\n      \"properties\": {\n        \"dtype\": \"category\",\n        \"num_unique_values\": 2,\n        \"samples\": [\n          \"Male\",\n          \"Female\"\n        ],\n        \"semantic_type\": \"\",\n        \"description\": \"\"\n      }\n    },\n    {\n      \"column\": \"smoker\",\n      \"properties\": {\n        \"dtype\": \"category\",\n        \"num_unique_values\": 2,\n        \"samples\": [\n          \"Yes\",\n          \"No\"\n        ],\n        \"semantic_type\": \"\",\n        \"description\": \"\"\n      }\n    },\n    {\n      \"column\": \"day\",\n      \"properties\": {\n        \"dtype\": \"category\",\n        \"num_unique_values\": 4,\n        \"samples\": [\n          \"Sat\",\n          \"Fri\"\n        ],\n        \"semantic_type\": \"\",\n        \"description\": \"\"\n      }\n    },\n    {\n      \"column\": \"time\",\n      \"properties\": {\n        \"dtype\": \"category\",\n        \"num_unique_values\": 2,\n        \"samples\": [\n          \"Lunch\",\n          \"Dinner\"\n        ],\n        \"semantic_type\": \"\",\n        \"description\": \"\"\n      }\n    },\n    {\n      \"column\": \"size\",\n      \"properties\": {\n        \"dtype\": \"number\",\n        \"std\": 0,\n        \"min\": 1,\n        \"max\": 6,\n        \"num_unique_values\": 6,\n        \"samples\": [\n          2,\n          3\n        ],\n        \"semantic_type\": \"\",\n        \"description\": \"\"\n      }\n    }\n  ]\n}"
            }
          },
          "metadata": {},
          "execution_count": 2
        }
      ]
    },
    {
      "cell_type": "code",
      "source": [
        "#i)Write a python function that calculate their skewness.\n",
        "import numpy as np\n",
        "from scipy import stats\n",
        "def skewness(df, column):\n",
        "    skewness = stats.skew(df[column])\n",
        "    return skewness\n",
        "tips = sns.load_dataset(\"tips\")\n",
        "total_bill_skewness = skewness(tips, \"total_bill\")\n",
        "tip_skewness = skewness(tips, \"tip\")\n",
        "print(\"Skewness of total_bill:\", total_bill_skewness)\n",
        "print(\"Skewness of tip:\", tip_skewness)"
      ],
      "metadata": {
        "colab": {
          "base_uri": "https://localhost:8080/"
        },
        "id": "OQbdcYK_Phpv",
        "outputId": "1f866cfb-3f9e-4081-8b02-5f31e00e572c"
      },
      "execution_count": null,
      "outputs": [
        {
          "output_type": "stream",
          "name": "stdout",
          "text": [
            "Skewness of total_bill: 1.1262346334818638\n",
            "Skewness of tip: 1.4564266884221506\n"
          ]
        }
      ]
    },
    {
      "cell_type": "code",
      "source": [
        "#ii)Create a python program that determines whether the columns exhibit positive skewness , neagtive skewness or is approximately symmetric.\n",
        "from scipy import stats\n",
        "import pandas as pd\n",
        "def check_skewness(df, column):\n",
        "    skewness = stats.skew(df[column])\n",
        "    if skewness > 0:\n",
        "        return f\"The column {column} has positive skewness \"\n",
        "    elif skewness < 0:\n",
        "        return f\"The column {column} has negative skewness\"\n",
        "    else:\n",
        "        return f\"The column {column} is approximately symmetric\"\n",
        "\n",
        "print(check_skewness(tips, \"total_bill\"))\n",
        "print(check_skewness(tips, \"tip\"))"
      ],
      "metadata": {
        "colab": {
          "base_uri": "https://localhost:8080/"
        },
        "id": "moIu16iM6N32",
        "outputId": "23645926-c896-47bd-e96e-2eacdf3bb252"
      },
      "execution_count": null,
      "outputs": [
        {
          "output_type": "stream",
          "name": "stdout",
          "text": [
            "The column total_bill has positive skewness \n",
            "The column tip has positive skewness \n"
          ]
        }
      ]
    },
    {
      "cell_type": "code",
      "source": [
        "#iii)Write a function that calculates the covariance between two columns.\n",
        "import pandas as pd\n",
        "def covariance(df, col1, col2):\n",
        "    covariance = df[col1].cov(df[col2])\n",
        "    return covariance\n",
        "tips = sns.load_dataset(\"tips\")\n",
        "total_bill_tip_covariance = covariance(tips, \"total_bill\", \"tip\")\n",
        "print(\"Covariance between total_bill and tip:\", total_bill_tip_covariance)"
      ],
      "metadata": {
        "colab": {
          "base_uri": "https://localhost:8080/"
        },
        "id": "Bvc6tEY67b8u",
        "outputId": "e18d1c04-dec4-49ab-bb60-77188cf79e4b"
      },
      "execution_count": null,
      "outputs": [
        {
          "output_type": "stream",
          "name": "stdout",
          "text": [
            "Covariance between total_bill and tip: 8.323501629224854\n"
          ]
        }
      ]
    },
    {
      "cell_type": "code",
      "source": [
        "#iv)Implement a python program that calculate the pearson correalation coefficient between two columns.\n",
        "import pandas as pd\n",
        "from scipy.stats import pearsonr\n",
        "def calculate_pearson_correlation(df, column1, column2):\n",
        "    correlation, _ = pearsonr(df[column1], df[column2])\n",
        "    return correlation\n",
        "tips =sns.load_dataset(\"tips\")\n",
        "total_bill_tip_correlation = calculate_pearson_correlation(tips, \"total_bill\", \"tip\")\n",
        "print(\"Pearson correlation coefficient between total_bill and tip:\", total_bill_tip_correlation)"
      ],
      "metadata": {
        "colab": {
          "base_uri": "https://localhost:8080/"
        },
        "id": "nip6qObr_V_-",
        "outputId": "b402c7e9-aa95-40e2-d14c-34596c2de19a"
      },
      "execution_count": null,
      "outputs": [
        {
          "output_type": "stream",
          "name": "stdout",
          "text": [
            "Pearson correlation coefficient between total_bill and tip: 0.6757341092113647\n"
          ]
        }
      ]
    },
    {
      "cell_type": "code",
      "source": [
        "#v)Write a script to visualize the correalation between two specific columns in pandas Dataframe using scatterplots.\n",
        "import matplotlib.pyplot as plt\n",
        "tips = sns.load_dataset(\"tips\")\n",
        "plt.figure(figsize=(10, 8))\n",
        "plt.scatter(tips[\"total_bill\"], tips[\"tip\"])\n",
        "plt.xlabel(\"Total Bill\")\n",
        "plt.ylabel(\"Tip\")\n",
        "plt.title(\"Scatterplot of Total Bill and Tip\")\n",
        "plt.show()"
      ],
      "metadata": {
        "colab": {
          "base_uri": "https://localhost:8080/",
          "height": 718
        },
        "id": "cYuvBjnAimmT",
        "outputId": "4b1f2966-f669-408d-f57c-c281ba9e3fdf"
      },
      "execution_count": null,
      "outputs": [
        {
          "output_type": "display_data",
          "data": {
            "text/plain": [
              "<Figure size 1000x800 with 1 Axes>"
            ],
            "image/png": "[encoded data removed]"
          },
          "metadata": {}
        }
      ]
    },
    {
      "cell_type": "code",
      "source": [
        "#8.Write a python function to calculate the probabilty density function(PDF) of a continuous random variable for a given normal distribution.\n",
        "import math\n",
        "def calculate(mean, std_dev, x):\n",
        "    coefficient = 1/(std_dev * math.sqrt(2 * math.pi))\n",
        "    exponent = -((x - mean)**2)/(2*std_dev**2)#negative because the PDF ius non-negative\n",
        "    pdf = coefficient*math.exp(exponent)\n",
        "    return pdf\n",
        "mean = 0\n",
        "std_dev = 1\n",
        "x = 1.5\n",
        "pdf_value = calculate(mean, std_dev, x)\n",
        "print(f\"The PDF value at {x} is {pdf_value}\")"
      ],
      "metadata": {
        "colab": {
          "base_uri": "https://localhost:8080/"
        },
        "id": "mWrUGVmokV36",
        "outputId": "afacbe22-a9d8-4138-aa52-566f49c2dd3d"
      },
      "execution_count": null,
      "outputs": [
        {
          "output_type": "stream",
          "name": "stdout",
          "text": [
            "The PDF value at 1.5 is 0.12951759566589174\n"
          ]
        }
      ]
    },
    {
      "cell_type": "code",
      "source": [
        "#9.Create a program to calculate the cumulative distribution function (CDF) of exponential function.\n",
        "import numpy as np\n",
        "import matplotlib.pyplot as plt\n",
        "from scipy.stats import expon\n",
        "\n",
        "x = np.linspace(0, 10, 1000)\n",
        "lambdaa = 0.5\n",
        "\n",
        "y = expon.cdf(x, scale=1/lambdaa)#scale is 1/lambda which is also the mean for the function\n",
        "\n",
        "plt.plot(x, y)\n",
        "plt.xlabel('x')\n",
        "plt.ylabel('F(x)')\n",
        "plt.title('CDF of Exponential Distribution')\n",
        "plt.grid(True)\n",
        "plt.show()"
      ],
      "metadata": {
        "id": "cIzRy2bhoAzn",
        "colab": {
          "base_uri": "https://localhost:8080/",
          "height": 472
        },
        "outputId": "f5e713ca-192d-43a0-b09a-0c889cdf2117"
      },
      "execution_count": null,
      "outputs": [
        {
          "output_type": "display_data",
          "data": {
            "text/plain": [
              "<Figure size 640x480 with 1 Axes>"
            ],
            "image/png": "[encoded data removed]"
          },
          "metadata": {}
        }
      ]
    },
    {
      "cell_type": "code",
      "source": [
        "#10.Write a python function to calculate the probability mass function(PMF) of Poission distribution.\n",
        "import math\n",
        "def poiss_pmf(k, l):\n",
        "    return (l** k) * math.exp(-l) / math.factorial(k)\n",
        "k=2\n",
        "lambdaa= 3.0\n",
        "prob = poiss_pmf(k, lambdaa)\n",
        "print(f\"The probability of {k} events happening is-{prob}\")"
      ],
      "metadata": {
        "colab": {
          "base_uri": "https://localhost:8080/"
        },
        "id": "8QKOhjOd832P",
        "outputId": "fc58698f-0be8-4657-eae6-dae21a13336d"
      },
      "execution_count": null,
      "outputs": [
        {
          "output_type": "stream",
          "name": "stdout",
          "text": [
            "The probability of 2 events happening is-0.22404180765538775\n"
          ]
        }
      ]
    },
    {
      "cell_type": "code",
      "source": [
        "#11.A company want to test if a new website layout leads to higher conversion rate(percentage of visitors who make a purchase).They collect data from old and new layouts to compare.\n",
        "import numpy as np\n",
        "from scipy.stats import norm\n",
        "old_lay = np.array([1]*50 + [0]*950)\n",
        "new_lay = np.array([1]*70 + [0]*930)\n",
        "\n",
        "old, new = len(old_lay), len(new_lay)\n",
        "xold, xnew = np.sum(old_lay), np.sum(new_lay)\n",
        "\n",
        "x = xold / old\n",
        "y = xnew / new\n",
        "\n",
        "pooled_prop = (xold + xnew) / (old + new)\n",
        "\n",
        "error_old = np.sqrt(pooled_prop * (1 - pooled_prop) / old)\n",
        "error_new = np.sqrt(pooled_prop * (1 - pooled_prop) / new)\n",
        "\n",
        "zo = (x-pooled_prop) / error_old\n",
        "zn = (y-pooled_prop) / error_new\n",
        "\n",
        "p_value_old = norm.sf(abs(zo))\n",
        "p_value_new = norm.sf(abs(zn))\n",
        "print(\"Old Layout:\")\n",
        "print(f\"Sample :{x}\")\n",
        "print(f\"Standard error: {error_old}\")\n",
        "print(f\"Z-score: {zo}\")\n",
        "print(f\"P-value: {p_value_old}\")\n",
        "\n",
        "print(\"New Layout:\")\n",
        "print(f\"Sample :{y}\")\n",
        "print(f\"Standard error: {error_new}\")\n",
        "print(f\"Z-score: {zn}\")\n",
        "print(f\"P-value: {p_value_new}\")"
      ],
      "metadata": {
        "colab": {
          "base_uri": "https://localhost:8080/"
        },
        "id": "4yp9re183JhC",
        "outputId": "f690a1c8-f890-433d-8bb2-51e0cff16f4e"
      },
      "execution_count": null,
      "outputs": [
        {
          "output_type": "stream",
          "name": "stdout",
          "text": [
            "Old Layout:\n",
            "Sample :0.05\n",
            "Standard error: 0.007509993342207435\n",
            "Z-score: -1.331559103228268\n",
            "P-value: 0.09150255564724252\n",
            "\n",
            "New Layout:\n",
            "Sample :0.07\n",
            "Standard error: 0.007509993342207435\n",
            "Z-score: 1.3315591032282699\n",
            "P-value: 0.09150255564724225\n"
          ]
        }
      ]
    },
    {
      "cell_type": "code",
      "source": [
        "#12.A tutoring service claims that its program improves students' exam scores. A sample on students who participated in the program was taken, and their scores beNore and after the program were recorded\n",
        "import numpy as np\n",
        "from scipy.stats import norm\n",
        "before_program = np.array([75, 80, 85, 70, 90, 78, 92, 88, 82, 87])\n",
        "after_program = np.array([80, 85, 90, 80, 92, 80, 95, 90, 85, 88])\n",
        "\n",
        "before_mean = np.mean(before_program)\n",
        "before_std = np.std(before_program, ddof=1)\n",
        "\n",
        "mean_after = np.mean(after_program)\n",
        "std_after = np.std(after_program, ddof=1)\n",
        "\n",
        "print(\"Mean before the program-\", before_mean)\n",
        "print(\"Standard deviation before program-\",before_std)\n",
        "print(\"Mean after the program-\", mean_after)\n",
        "print(\"Standard deviation after the program-\", std_after)\n",
        "n = len(before_program)\n",
        "p_pooled = np.sqrt(((n - 1) * (before_std ** 2) + (n - 1) * (std_after ** 2)) / (2 * n - 2))#formula\n",
        "se_diff = p_pooled * np.sqrt(2 / n)\n",
        "print(\"Pooled standard deviation-\", p_pooled)\n",
        "print(\"Standard error of the difference:\", se_diff)\n",
        "z_score = (mean_after - before_mean) / se_diff\n",
        "print(\"Z-score:\", z_score)\n",
        "p_value = norm.sf(abs(z_score))\n",
        "print(\"P-value:\", p_value)"
      ],
      "metadata": {
        "colab": {
          "base_uri": "https://localhost:8080/"
        },
        "id": "XjQwSyHtbDAN",
        "outputId": "2223fa82-99a1-457f-a99c-b71dd81acf95"
      },
      "execution_count": null,
      "outputs": [
        {
          "output_type": "stream",
          "name": "stdout",
          "text": [
            "Mean before the program- 82.7\n",
            "Standard deviation before program- 7.008724721532601\n",
            "Mean after the program- 86.5\n",
            "Standard deviation after the program- 5.380004130522991\n",
            "Pooled standard deviation- 6.247666230948428\n",
            "Standard error of the difference: 2.794041278626117\n",
            "Z-score: 1.3600371723457605\n",
            "P-value: 0.08690908050913837\n"
          ]
        }
      ]
    },
    {
      "cell_type": "code",
      "source": [
        "#13.A pharmaceutical company wants to determine if a new drug is effective in reducing blood pressure .They conduct a study and record blood pressure measurements before and after administering the drug.\n",
        "import numpy as np\n",
        "from scipy import stats\n",
        "before_drug = np.array([145, 150, 140, 135, 155, 160, 152, 148, 130, 138])\n",
        "after_drug = np.array([130, 140, 132, 128, 145, 148, 138, 136, 125, 130])\n",
        "mean_before = np.mean(before_drug)\n",
        "mean_after = np.mean(after_drug)\n",
        "std_before = np.std(before_drug)\n",
        "std_after = np.std(after_drug)\n",
        "std_error = np.sqrt((std_before**2 / len(before_drug)) + (std_after**2 / len(after_drug)))\n",
        "z_statistic = (mean_before - mean_after) / std_error\n",
        "p_value = 2 * (1 - stats.norm.cdf(abs(z_statistic)))\n",
        "print(\"z-statistic:\", z_statistic)\n",
        "print(\"p-value:\", p_value)\n",
        "alpha = 0.05\n",
        "if p_value < alpha:\n",
        "    print(\"Reject the null hypothesis,So the drug is effective in reducing blood pressure.\")\n",
        "else:\n",
        "    print(\"Fail to reject the null hypothesis, so the drug is not effective in reducing blood pressure.\")\n",
        "#according to me this is the best way"
      ],
      "metadata": {
        "id": "Uyrth2aUafV8",
        "colab": {
          "base_uri": "https://localhost:8080/"
        },
        "outputId": "03eef520-ca68-4061-cea6-54ec54f327bc"
      },
      "execution_count": null,
      "outputs": [
        {
          "output_type": "stream",
          "name": "stdout",
          "text": [
            "z-statistic: 2.782358588312472\n",
            "p-value: 0.005396537734343454\n",
            "Reject the null hypothesis. The drug is effective in reducing blood pressure.\n"
          ]
        }
      ]
    },
    {
      "cell_type": "code",
      "source": [
        "#14.A customer service department claims that their average response time is less than 5 mins.A sample of recent customer interaction was taken and reponse time was recorded.\n",
        "import numpy as np\n",
        "from scipy import stats\n",
        "response_times = np.array([4.3, 3.8, 5.1, 4.9, 4.7, 4.2, 5.2, 4.5, 4.6, 4.4])\n",
        "mean_res_time = np.mean(response_times)\n",
        "std_response_time = np.std(response_times, ddof=1)\n",
        "n = len(response_times)\n",
        "\n",
        "std_error = std_response_time / np.sqrt(n)\n",
        "z_statistic = (mean_res_time - 5) / std_error\n",
        "p_value = 2 * (1 - stats.norm.cdf(abs(z_statistic)))\n",
        "print(\"z-statistic:\", z_statistic)\n",
        "print(\"p-value:\", p_value)\n",
        "alpha = 0.05\n",
        "if p_value < alpha:\n",
        "    print(\"Reject the null hypothesis , So the customer service department's claim is false.\")\n",
        "else:\n",
        "    print(\"Fail to reject the null hypothesis,So The customer service department's claim is true.\")"
      ],
      "metadata": {
        "colab": {
          "base_uri": "https://localhost:8080/"
        },
        "id": "ZvVmVdwg71ha",
        "outputId": "3c48cf45-39a1-44f6-ccb3-d0f09f44b130"
      },
      "execution_count": null,
      "outputs": [
        {
          "output_type": "stream",
          "name": "stdout",
          "text": [
            "z-statistic: -3.184457226042963\n",
            "p-value: 0.0014502574226138432\n",
            "Reject the null hypothesis. The customer service department's claim is false.\n"
          ]
        }
      ]
    },
    {
      "cell_type": "code",
      "source": [
        "#15.A company is testing two different website layouts to see which one leads to higher click through rates .Write a python function to perform an A/B test analysis , including calculating the t-stats , degrees of freedom and p-value.\n",
        "layout_a_clicks = [28, 32, 33, 29, 31, 34, 30, 35, 36, 37]\n",
        "layout_b_clicks = [40, 41, 38, 42, 39, 44, 43, 41, 45, 47]\n",
        "mean_a = np.mean(layout_a_clicks)\n",
        "mean_b = np.mean(layout_b_clicks)\n",
        "a_std = np.std(layout_a_clicks, ddof=1)\n",
        "b_std = np.std(layout_b_clicks, ddof=1)\n",
        "n_a = len(layout_a_clicks)\n",
        "n_b = len(layout_b_clicks)\n",
        "pooled_std = np.sqrt(((n_a - 1) * a_std**2 + (n_b - 1) * b_std**2) / (n_a + n_b - 2))\n",
        "t_stats= (mean_b - mean_a) / (pooled_std * np.sqrt(1/n_a + 1/n_b))\n",
        "degrees_of_freedom = n_a + n_b - 2\n",
        "p_value = 2 * (1 - stats.t.cdf(abs(t_stats), degrees_of_freedom))\n",
        "if p_value < 0.05:\n",
        "    print(\"Reject the null hypothesis\")\n",
        "else:\n",
        "    print(\"Fail to reject the null hypothesis\")"
      ],
      "metadata": {
        "id": "54lqoTvvIGhZ"
      },
      "execution_count": null,
      "outputs": []
    },
    {
      "cell_type": "code",
      "source": [
        "#16.A pharmaceutical company wants to determine if a new drug is more effective than an existing drug in reducing cholestrol levels.Create a program to analyze the clinical trial data and calculate the t-statistic and p-value for treatment effect.\n",
        "import pandas as pd\n",
        "from scipy import stats\n",
        "existing_drug = [180, 182, 175, 185, 178, 176, 172, 184, 179, 183]\n",
        "new_drug = [170, 172, 165, 168, 175, 173, 170, 178, 172, 176]\n",
        "t_stat, p_val = stats.ttest_ind(existing_drug, new_drug)\n",
        "print(f'T-statistic: {t_stat}')\n",
        "print(f'P-value: {p_val}')\n",
        "alpha = 0.05\n",
        "if p_val < alpha:\n",
        "    print(\"Reject the null hypothesis that is the new drug is more effective than the existing drug in reducing cholesterol levels.\")\n",
        "else:\n",
        "    print(\"Fail to reject the null hypothesis thet is the new drug is not more effective than the existing drug in reducing cholesterol levels.\")"
      ],
      "metadata": {
        "colab": {
          "base_uri": "https://localhost:8080/"
        },
        "id": "BuH6Wl6w8M1r",
        "outputId": "81e005dc-99d5-49e6-850f-9d509f394f23"
      },
      "execution_count": null,
      "outputs": [
        {
          "output_type": "stream",
          "name": "stdout",
          "text": [
            "T-statistic: 4.14048098620866\n",
            "P-value: 0.0006143398442372505\n",
            "Reject the null hypothesis that is the new drug is more effective than the existing drug in reducing cholesterol levels.\n"
          ]
        }
      ]
    },
    {
      "cell_type": "code",
      "source": [
        "#17.A school district introduces an educational intervention program to improve math scores.Write a python function to analyze pre- an post-intervention test scores, calculating its t-statistic and p-value to determine if the intervention had a significant impact.\n",
        "def analyze(pre_scores, post_scores):\n",
        "    t_stat, p_val = stats.ttest_rel(pre_scores, post_scores)\n",
        "    print(f'T-statistic: {t_stat}')\n",
        "    print(f'P-value: {p_val}')\n",
        "    if p_val < 0.05:\n",
        "        print(\"The intervention had a significant impact on math scores.\")\n",
        "    else:\n",
        "        print(\"The intervention did not have a significant impact on math scores.\")\n",
        "pre_scores = [80, 85, 90, 75, 88, 82, 92, 78, 85, 87]\n",
        "post_scores = [90, 92, 88, 92, 95, 91, 96, 93, 89, 93]\n",
        "analyze(pre_scores, post_scores)"
      ],
      "metadata": {
        "colab": {
          "base_uri": "https://localhost:8080/"
        },
        "id": "qUz4vq-q-zAs",
        "outputId": "b5c7130f-ac8e-4d0e-b2c9-a66e6f6c3f0b"
      },
      "execution_count": null,
      "outputs": [
        {
          "output_type": "stream",
          "name": "stdout",
          "text": [
            "T-statistic: -4.42840883965761\n",
            "P-value: 0.0016509548165795493\n",
            "The intervention had a significant impact on math scores.\n"
          ]
        }
      ]
    },
    {
      "cell_type": "code",
      "source": [
        "#18.An HR department wants to investigate if there's a gender-based salary gap within the company. Develop a program to analyze salary data, calculate the t-statistic, and determine if there's a statistically significant difference between the average salaries of male and female employees.\n",
        "from scipy import stats\n",
        "import numpy as np\n",
        "np.random.seed(0)\n",
        "male_salaries = np.random.normal(loc=50000, scale=10000, size=20)\n",
        "female_salaries = np.random.normal(loc=55000, scale=9000, size=20)\n",
        "\n",
        "t_stat, p_val = stats.ttest_ind(male_salaries, female_salaries)\n",
        "print(f'T-statistic- {t_stat}')\n",
        "print(f'P-value- {p_val}')\n",
        "if p_val < 0.05:\n",
        "    print(\"There is significant difference between the average salaries of male and female employees.\")\n",
        "else:\n",
        "    print(\"There is no significant difference between the average salaries of male and female employees.\")"
      ],
      "metadata": {
        "colab": {
          "base_uri": "https://localhost:8080/"
        },
        "id": "-f0JyHWOAbXb",
        "outputId": "65f61c44-7fbe-47f6-b4bf-f3a16e158d6a"
      },
      "execution_count": null,
      "outputs": [
        {
          "output_type": "stream",
          "name": "stdout",
          "text": [
            "T-statistic- 0.06114208969631383\n",
            "P-value- 0.9515665020676465\n",
            "There is no significant difference between the average salaries of male and female employees.\n"
          ]
        }
      ]
    },
    {
      "cell_type": "code",
      "source": [
        "#19.A manufacturer produces two different versions of a product and wants to compare their quality scores. Create a Python function to analyze quality assessment data, calculate the t-statistic, and decide whether there's a significant difference in quality between the two versions.\n",
        "import numpy as np\n",
        "from scipy import stats\n",
        "version1_scores = [85, 88, 82, 89, 87, 84, 90, 88, 85, 86, 91, 83, 87, 84, 89, 86, 84, 88, 85, 86, 89, 90, 87, 88, 85]\n",
        "version2_scores = [80, 78, 83, 81, 79, 82, 76, 80, 78, 81, 77, 82, 80, 79, 82, 79, 80, 81, 79, 82, 79, 78, 80, 81, 82]\n",
        "t_stat, p_val = stats.ttest_ind(version1_scores, version2_scores)\n",
        "print(f'T-statistic: {t_stat}')\n",
        "print(f'P-value: {p_val}')\n",
        "if p_val < 0.05:\n",
        "    print(\"There is significant difference in quality between the two versions.\")\n",
        "else:\n",
        "    print(\"There is significant difference in quality between the two versions.\")"
      ],
      "metadata": {
        "colab": {
          "base_uri": "https://localhost:8080/"
        },
        "id": "OcRLqE1KBwMR",
        "outputId": "1b9fa7f5-07c8-4fec-b244-16583fbee8d0"
      },
      "execution_count": null,
      "outputs": [
        {
          "output_type": "stream",
          "name": "stdout",
          "text": [
            "T-statistic: 11.325830417646698\n",
            "P-value: 3.6824250702873965e-15\n",
            "There is significant difference in quality between the two versions.\n"
          ]
        }
      ]
    },
    {
      "cell_type": "code",
      "source": [
        "#20.A restaurant chain collects customer satisfaction scores for two different branches. Write a program to analyze the scores, calculate the t-statistic, and determine if there's a statistically significant difference in customer satisfaction between the branches.\n",
        "import numpy as np\n",
        "from scipy import stats\n",
        "branch_a_scores = [4, 5, 3, 4, 5, 4, 5, 3, 4, 4, 5, 4, 4, 3, 4, 5, 5, 4, 3, 4, 5, 4, 3, 5, 4, 4, 5, 3, 4, 5, 4]\n",
        "branch_b_scores = [3, 4, 2, 3, 4, 3, 4, 2, 3, 3, 4, 3, 3, 2, 3, 4, 4, 3, 2, 3, 4, 3, 2, 4, 3, 3, 4, 2, 3, 4, 3]\n",
        "t_stat, p_val = stats.ttest_ind(branch_a_scores, branch_b_scores)\n",
        "print(f'T-statistic: {t_stat}')\n",
        "print(f'P-value: {p_val}')\n",
        "if p_val < 0.05:\n",
        "    print(\"There is significant difference in customer satisfaction between the two branches.\")\n",
        "else:\n",
        "    print(\"There is significant difference in customer satisfaction between the two branches.\")"
      ],
      "metadata": {
        "colab": {
          "base_uri": "https://localhost:8080/"
        },
        "id": "_MNCsNk4n8o8",
        "outputId": "95b85d11-4888-4e95-f133-c3f7ae6b78ad"
      },
      "execution_count": null,
      "outputs": [
        {
          "output_type": "stream",
          "name": "stdout",
          "text": [
            "T-statistic: 5.480077554195743\n",
            "P-value: 8.895290509945655e-07\n",
            "There is significant difference in customer satisfaction between the two branches.\n"
          ]
        }
      ]
    },
    {
      "cell_type": "code",
      "source": [
        "#21.A political analyst wants to determine if there is a significant association between age groups and voter preferences (Candidate A or Candidate B). They collect data from a sample of 500 voters and classify them into different age groups and candidate preferences. Perform a Chi-Square test to determine if there is a significant association between age groups and voter preferences.\n",
        "import numpy as np\n",
        "import pandas as pd\n",
        "from scipy.stats import chi2_contingency\n",
        "np.random.seed(0)\n",
        "age_groups = np.random.choice(['18-30', '31-50', '51+','51+'], size=30)\n",
        "voter_preferences = np.random.choice(['Candidate A', 'Candidate B'], size=30)\n",
        "crosstab_table = pd.crosstab(age_groups, voter_preferences)\n",
        "print(crosstab_table)\n",
        "chi2, p_val, dof, expected_freq = chi2_contingency(crosstab_table)\n",
        "print(f'Chi-Square statistic: {chi2}')\n",
        "print(f'Degrees of freedom: {dof}')\n",
        "print(f'P-value: {p_val}')\n",
        "if p_val < 0.05:\n",
        "    print(\"There is significant association between age groups and voter preferences.\")\n",
        "else:\n",
        "    print(\"There is no significant association between age groups and voter preferences.\")"
      ],
      "metadata": {
        "colab": {
          "base_uri": "https://localhost:8080/"
        },
        "id": "3sVZGZL3pXFs",
        "outputId": "675f3939-b489-4fa7-f81e-f7a7c9794600"
      },
      "execution_count": null,
      "outputs": [
        {
          "output_type": "stream",
          "name": "stdout",
          "text": [
            "col_0  Candidate A  Candidate B\n",
            "row_0                          \n",
            "18-30            2            6\n",
            "31-50            4            4\n",
            "51+              5            9\n",
            "Chi-Square statistic: 1.086807928913192\n",
            "Degrees of freedom: 2\n",
            "P-value: 0.5807679703526951\n",
            "There is no significant association between age groups and voter preferences.\n"
          ]
        }
      ]
    },
    {
      "cell_type": "code",
      "source": [
        "#22. A company conducted a customer satisfaction survey to determine if there is a significant relationship between product satisfaction levels (Satisfied, Neutral, Dissatisfied) and the region where customers are located (East, West, North, South). The survey data is summarized in a contingency table. Conduct a ChiSquare test to determine if there is a significant relationship between product satisfaction levels and customer regions.\n",
        "import numpy as np\n",
        "from scipy.stats import chi2_contingency\n",
        "data = np.array([[50, 30, 40, 20], [30, 40, 30, 50], [20, 30, 40, 30]])\n",
        "chi2, p, dof, expected = chi2_contingency(data)\n",
        "print(\"Chi-Square statistics-\", chi2)\n",
        "print(\"p-value-\", p)\n",
        "print(\"Degrees of freedom-\", dof)\n",
        "if p < 0.05:\n",
        "    print(\"Reject the null hypothesis, that is there is significant relationship between product satisfaction levels and customer regions.\")\n",
        "else:\n",
        "    print(\"Fail to reject the null hypothesis that is  there is no significant relationship between product satisfaction levels and customer regions.\")"
      ],
      "metadata": {
        "colab": {
          "base_uri": "https://localhost:8080/"
        },
        "id": "RNUZiOgbs6o2",
        "outputId": "fa9237dc-63c6-4963-80ad-965f8d3b7826"
      },
      "execution_count": null,
      "outputs": [
        {
          "output_type": "stream",
          "name": "stdout",
          "text": [
            "Chi-Square statistics- 27.777056277056275\n",
            "p-value- 0.00010349448486004387\n",
            "Degrees of freedom- 6\n",
            "Reject the null hypothesis, that is there is significant relationship between product satisfaction levels and customer regions.\n"
          ]
        }
      ]
    },
    {
      "cell_type": "code",
      "source": [
        "#23. A company implemented an employee training program to improve job performance (Effective, Neutral, Ineffective). After the training, they collected data from a sample of employees and classified them based on their job performance before and after the training. Perform a Chi-Square test to determine if there is a significant difference between job performance levels before and after the training.\n",
        "import numpy as np\n",
        "from scipy.stats import chi2_contingency\n",
        "data = np.array([[50, 30, 20], [30, 40, 30], [20, 30, 40]])\n",
        "chi2, p, dof, expected = chi2_contingency(data)\n",
        "print(\"Chi-Square statistic-\", chi2)\n",
        "print(\"p-value-\", p)\n",
        "print(\"Degrees of freedom-\", dof)\n",
        "if p < 0.05:\n",
        "    print(\"There is significant difference between job performance levels before and after the training\")\n",
        "else:\n",
        "    print(\"There is no significant difference between job performance levels before and after the training\")"
      ],
      "metadata": {
        "colab": {
          "base_uri": "https://localhost:8080/"
        },
        "id": "2V9T5GlJGhCk",
        "outputId": "6d4547b2-baac-4225-ebc4-68ff8127d3cd"
      },
      "execution_count": null,
      "outputs": [
        {
          "output_type": "stream",
          "name": "stdout",
          "text": [
            "Chi-Square statistic- 22.161728395061726\n",
            "p-value- 0.00018609719479882557\n",
            "Degrees of freedom- 4\n",
            "There is significant difference between job performance levels before and after the training\n"
          ]
        }
      ]
    },
    {
      "cell_type": "code",
      "source": [
        "# 24. A company produces three different versions of a product: Standard, Premium, and Deluxe. The company wants to determine if there is a significant difference in customer satisfaction scores among the three product versions. They conducted a survey and collected customer satisfaction scores for each version from a random sample of customers. Perform an ANOVA test to determine if there is a significant difference in customer satisfaction scores.\n",
        "import numpy as np\n",
        "from scipy.stats import f_oneway\n",
        "standard_scores = [80, 85, 90, 78, 88, 82, 92, 78, 85, 87]\n",
        "premium_scores = [90, 92, 88, 92, 95, 91, 96, 93, 89, 93]\n",
        "deluxe_scores = [95, 98, 92, 97, 96, 94, 98, 97, 92, 99]\n",
        "f_stat, p_val = f_oneway(standard_scores, premium_scores, deluxe_scores)#there are also other\n",
        "print(\"F-statistic-\", f_stat)\n",
        "print(\"p-value-\", p_val)\n",
        "if p_val < 0.05:\n",
        "    print(\"There is a significant difference in customer satisfaction scores among the three product version\")\n",
        "else:\n",
        "    print(\"There is no significant difference in customer satisfaction scores among the three product versions\")"
      ],
      "metadata": {
        "id": "EXT9lA4nHJtK"
      },
      "execution_count": null,
      "outputs": []
    }
  ]
}