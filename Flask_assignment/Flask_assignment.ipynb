{
  "nbformat": 4,
  "nbformat_minor": 0,
  "metadata": {
    "colab": {
      "provenance": [],
      "authorship_tag": "ABX9TyPuFLMNpKtby6piqKkTICZ8",
      "include_colab_link": true
    },
    "kernelspec": {
      "name": "python3",
      "display_name": "Python 3"
    },
    "language_info": {
      "name": "python"
    }
  },
  "cells": [
    {
      "cell_type": "markdown",
      "metadata": {
        "id": "view-in-github",
        "colab_type": "text"
      },
      "source": [
        "<a href=\"https://colab.research.google.com/github/alwayspulakraj/GENERATIVE_AI_COURSE_ASSIGNMENT/blob/ASSIGNMENTS-PW-SKILLS/Flask_assignment/Flask_assignment.ipynb\" target=\"_parent\"><img src=\"https://colab.research.google.com/assets/colab-badge.svg\" alt=\"Open In Colab\"/></a>"
      ]
    },
    {
      "cell_type": "markdown",
      "source": [
        "#1.What is Web API?\n",
        "Web API is like a messenger that helps different websites or apps talk to each other and share information.\n"
      ],
      "metadata": {
        "id": "xVtbOO80Tjbg"
      }
    },
    {
      "cell_type": "markdown",
      "source": [
        "#2.How does a Web API differ from web service?\n",
        "A Web API is a part of a web service that defines how to interact with it, while a web service is the overall system that provides the functionality or data."
      ],
      "metadata": {
        "id": "o20b-PoIV2Ok"
      }
    },
    {
      "cell_type": "markdown",
      "source": [
        "#3.What are the benefits of using Web APIs in software development?\n",
        "Web APIs are beneficial in reusability , it is flexible or promotes flexibility , data security , it is cost effective ."
      ],
      "metadata": {
        "id": "Sj3CvHx1eae3"
      }
    },
    {
      "cell_type": "markdown",
      "source": [
        "#4.Explain the differences between SOAP and RESTful APIs.\n",
        "SOAP API uses XML to define the format of the data and WSDL to describe the API. RESTful API uses JSON or XML to define the format of the data and uses HTTP methods to interact with resources. SOAP API uses HTTP or SMTP as the transport protocol and RESTful APIs uses HTTP as the transport protocol ."
      ],
      "metadata": {
        "id": "hWfnhpP2gEmN"
      }
    },
    {
      "cell_type": "markdown",
      "source": [
        "#5.What is JSON and how is it commonly used in Web APIs.\n",
        "JSON is a human-readable data interchange format that is widely used in web development or in Web APIs.Used in Web APIs to return data to client , send data as it is easy to read and write."
      ],
      "metadata": {
        "id": "oXO0A5Yg1c-c"
      }
    },
    {
      "cell_type": "markdown",
      "source": [
        "#6.Can you name some popular Web API protocols other than REST?\n",
        "GraphQL , SOAP ,WebSocket are some popular Web API protocols other than REST.\n"
      ],
      "metadata": {
        "id": "9yWw8HuReLeM"
      }
    },
    {
      "cell_type": "markdown",
      "source": [
        "#7.What role do HTTP methods (GET , POST , PUT , DELETE) play in Web API development.\n",
        "GET: Retrieve data from the server. It is used to fetch data from the API.\n",
        "POST: It is used to send data to the API to create a new entity.\n",
        "PUT:It's used to modify an existing entity.\n",
        "DELETE:It's used to remove existing entity.\n"
      ],
      "metadata": {
        "id": "2fnK3cIvBCk8"
      }
    },
    {
      "cell_type": "markdown",
      "source": [
        "#8.What is the purpose of authentication an authorization in Web APIs.\n",
        "To protect sensitive data and prevent unauthorized access, modification, or deletion of resources."
      ],
      "metadata": {
        "id": "Q4FmtyU3CkMl"
      }
    },
    {
      "cell_type": "markdown",
      "source": [
        "#9.How can you handle versioning in Web API Developemnt?\n",
        "we can handle by URI Versioning like hello/v/user , Header Versioning and etc."
      ],
      "metadata": {
        "id": "wdu-djWhD-X0"
      }
    },
    {
      "cell_type": "markdown",
      "source": [
        "#10.What are the main components of an HTTP request and response in the context of Web APIs?\n",
        "The HTTP request consists Request Method (GET, POST, PUT, DELETE) , header , query parameters and etc but HTTP Response consists HTTP Version , headers , response body like JSON."
      ],
      "metadata": {
        "id": "m63G1nikF5Eb"
      }
    },
    {
      "cell_type": "markdown",
      "source": [
        "#11.Describe the concept of rate limiting in the context of Web APIs.\n",
        "Rate limiting allows API providers to control the number of requests that can be made to their API within a timeframe.Without rate limiting, user could overload the API so setting the performance to low."
      ],
      "metadata": {
        "id": "eAPffeX8qp-L"
      }
    },
    {
      "cell_type": "markdown",
      "source": [
        "#12.How can you handle errors and exceptions in in Web API responses.\n",
        "We can handle errors by return error responses , by using http codes that show status , can include error details or log errors , lastly we can also use JSON format to return the data which is easier to read and write and widely used."
      ],
      "metadata": {
        "id": "QlYsRDQMtBhb"
      }
    },
    {
      "cell_type": "markdown",
      "source": [
        "#13.Explain the concept of statelessness in RESTful Web APIs.\n",
        "Statelessness is a concept that means each request from a client to a server contains all the information necessary to fulfill that request,without relying on stored data."
      ],
      "metadata": {
        "id": "eRSyrYUCvsE5"
      }
    },
    {
      "cell_type": "markdown",
      "source": [
        "#14.What are the best practices for designing and documenting Web APIs.\n",
        "It plays a important role to maintain other systems.Designing Web APIs follow RESTful principles use HTTP status codes , query parameters and headers .\n",
        "Documenting Web APIs use API endpoint example requests and responses."
      ],
      "metadata": {
        "id": "tW8booopw2TB"
      }
    },
    {
      "cell_type": "markdown",
      "source": [
        "#15.What role do the API keys and token play in securing Web APIs.\n",
        "API keys and tokens play a crucial role in securing Web APIs by providing a layer of authentication and authorization."
      ],
      "metadata": {
        "id": "MtRfZYCqJtSq"
      }
    },
    {
      "cell_type": "markdown",
      "source": [
        "#16.What is REST ?\n",
        "REST is a way to design web services that allows different systems to communicate with each other over the internet.\n",
        "\n"
      ],
      "metadata": {
        "id": "E374oAMDLTaj"
      }
    },
    {
      "cell_type": "markdown",
      "source": [
        "#17.Explain the difference between RESTful APIs and traditional web services.\n",
        "RESTful APIs are more lightweight, flexible, and scalable than traditional web services. They're also easier to develop and maintain."
      ],
      "metadata": {
        "id": "ztfM8QjvL0Zx"
      }
    },
    {
      "cell_type": "markdown",
      "source": [
        "#18.What are the main HTTP methods used in RESTful architecture and what are their purposes?\n",
        "GET-Retrieve a data(ex-fetch a user profile),\n",
        "POST-Create new data or resource,\n",
        "PUT- Update an existing data,\n",
        "DELETE- Delete data or resource.\n"
      ],
      "metadata": {
        "id": "8l93tF16PKK6"
      }
    },
    {
      "cell_type": "markdown",
      "source": [
        "#19.Describe the concept of statelessness in RESTful APIs.\n",
        "Statelessness is a concept that means each request from a client to a server contains all the information necessary to fulfill that request,without relying on stored data.\n"
      ],
      "metadata": {
        "id": "XJx5InoBvZ7e"
      }
    },
    {
      "cell_type": "markdown",
      "source": [
        "#20.What is the significance of URIs(Uniform Resource Identifier) in RESTful API design.\n",
        "URI is a unique address that helps identify and locate resources (like data or services) on the web. It allows to access and interact with those resources."
      ],
      "metadata": {
        "id": "WT1kZor84lRA"
      }
    },
    {
      "cell_type": "markdown",
      "source": [
        "#21.Explain the role of hypermedia in RESTful APIs.\n",
        "Hypermedia in RESTful APIs helps users to navigate and discover available resources and actions. It's a way to include links to related resources"
      ],
      "metadata": {
        "id": "DfK7Ao_D5JEM"
      }
    },
    {
      "cell_type": "markdown",
      "source": [
        "#22.What are the benefits of using RESTful APIs over other architectural styles.\n",
        "RESTful APIs have benefits such as-\n",
        "Scalability,\n",
        "Stateless,\n",
        "Uniform Interface,\n",
        "Decoupling,\n",
        "Easy to Learn,\n",
        "security and etc"
      ],
      "metadata": {
        "id": "nwM9CVCw5K78"
      }
    },
    {
      "cell_type": "markdown",
      "source": [
        "#23.Discuss the concept of resource representations in RESTful APIs.\n",
        "A resource representation is a way to show a resource or data in a format that both the user and server can understand.Resource representations are stateless, means they do not contain any data about the user or the server."
      ],
      "metadata": {
        "id": "uvmlXwCZEpYG"
      }
    },
    {
      "cell_type": "markdown",
      "source": [
        "#24.How does REST handle communication between clients and servers.\n",
        "Client sends an HTTP request to the server to access or modify a resource.\n",
        "Server processes the request and sends the response back to the client.\n",
        "GET, POST, PUT, DELETE are used to interact with resources.\n",
        "Server responds with an HTTP status code and\n",
        "REST uses a uniform interface for communication."
      ],
      "metadata": {
        "id": "CYwnY7S_Hh9f"
      }
    },
    {
      "cell_type": "markdown",
      "source": [
        "#25.What are the common data formats used in RESTful API communication?\n",
        "The common data formats are JSON , XML , CSV and etc."
      ],
      "metadata": {
        "id": "2Nr5yx1KINME"
      }
    },
    {
      "cell_type": "markdown",
      "source": [
        "#26.Explain the importance of status code in RESTful API response.\n",
        "Status codes refers to the request, provide additional info, help with error handling, improve API documentation, and do better debugging."
      ],
      "metadata": {
        "id": "f88c8O40IKuO"
      }
    },
    {
      "cell_type": "markdown",
      "source": [
        "#27.Describe the process of versioning in RESTful API development.\n",
        "Versioning allows API providers to make changes to their API without breaking existing client integrations.First it plan and design , create a new version , test and validate and communicate with clients."
      ],
      "metadata": {
        "id": "dZ0h5u9GsSzv"
      }
    },
    {
      "cell_type": "markdown",
      "source": [
        "#28.How can you ensure security in RESTful API development ?what are the common authentication methods.\n",
        "We can ensure security by authentication and authorization , create data encryption , secure data storage , test the security . The Basic authentication methods are - JSON web tokens , API keys , two factor authentication and etc."
      ],
      "metadata": {
        "id": "rwswCTjws3GH"
      }
    },
    {
      "cell_type": "markdown",
      "source": [
        "#29.What are the best practices for documenting RESTful APIs.\n",
        "To use a standard documentation format,provide clear and concise overlook , creating API endpoints,document error handling , include API status and etc"
      ],
      "metadata": {
        "id": "BysGXNCttusG"
      }
    },
    {
      "cell_type": "markdown",
      "source": [
        "#30.What are the consideration should be made for error handling in RESTful APIs.\n",
        "Error codes and messages,\n",
        "error response,\n",
        "error handling for different error types,\n",
        "Logging and Monitoring and etc ."
      ],
      "metadata": {
        "id": "MiHBjfDUuSE2"
      }
    },
    {
      "cell_type": "markdown",
      "source": [
        "#31.What is SOAP and how does it differ from REST?\n",
        "SOAP is XML-based, stateful, tightly coupled but\n",
        "REST is Resource-based, client-server, stateless and lightweight"
      ],
      "metadata": {
        "id": "QMaoviCahbu9"
      }
    },
    {
      "cell_type": "markdown",
      "source": [
        "#32.Describe the structure of a SOAP message ?\n",
        "SOAP message consists of Envelop which is root element of SOAP message."
      ],
      "metadata": {
        "id": "eHEEzOjziu0c"
      }
    },
    {
      "cell_type": "markdown",
      "source": [
        "#33.How does SOAP handle communication between clients and servers.\n",
        "Client sends SOAP request (XML) to server then Server processes and responds with SOAP response (XML) then Client receives and processes response."
      ],
      "metadata": {
        "id": "d7muWwHo3Riv"
      }
    },
    {
      "cell_type": "markdown",
      "source": [
        "#34.What are the advantages and disadvantages of using SOAP based web services.\n",
        "Advantages are robust security, error handling, extensive tooling. Disadvantages are Complex, limited REST support,performance issues."
      ],
      "metadata": {
        "id": "KLg6szZ_3x3X"
      }
    },
    {
      "cell_type": "markdown",
      "source": [
        "#35.How does SOAP ensure security in web service communication?\n",
        "XML Encryption, Digital Signatures, Authentication, Access Control, and WS-Security."
      ],
      "metadata": {
        "id": "FQMJQIaR4-rG"
      }
    },
    {
      "cell_type": "markdown",
      "source": [
        "#36.What is flask , and what makes it different from other frameworks.\n",
        "Flask is a popular open-source web application framework written in Python. It is a micro-framework, which means it is lightweight and has minimalistic approach, which provides the important tools for building a web application."
      ],
      "metadata": {
        "id": "c-nHIC7v8S2R"
      }
    },
    {
      "cell_type": "markdown",
      "source": [
        "#37.Describe the basic structure of a flask application.\n",
        "A basic Flask application consists of-\n",
        "app.py (main application file)\n",
        "templates folder (HTML templates)\n",
        "static folder"
      ],
      "metadata": {
        "id": "Db6ZpmuN8s4Y"
      }
    },
    {
      "cell_type": "markdown",
      "source": [
        "#38.How do you install flask on your local machine.\n",
        "We can install flask by simply writing in the command pip install Flask"
      ],
      "metadata": {
        "id": "S48-3X1t_tmP"
      }
    },
    {
      "cell_type": "markdown",
      "source": [
        "#39.Explain the concept of routing?\n",
        "Its the process of finding the best path for data packets to travel from the sender to the receiver.There are two types of routing - static routing and dynamic routing."
      ],
      "metadata": {
        "id": "zXYBfgnyARZ-"
      }
    },
    {
      "cell_type": "markdown",
      "source": [
        "#40.What are flask templates and how are theey used in web development?\n",
        "Flask templates are HTML files for dynamic data. They separate presentation logic from application logic, making it easier to maintain and update the web app.First we haave to create a HTML web , define a route , renders template , which the rendered HTML page will be returned to user."
      ],
      "metadata": {
        "id": "ZnkQlygyCFkg"
      }
    }
  ]
}